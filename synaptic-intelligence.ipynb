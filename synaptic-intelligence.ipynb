{
 "cells": [
  {
   "cell_type": "code",
   "execution_count": 1,
   "metadata": {
    "collapsed": true
   },
   "outputs": [],
   "source": [
    "import tensorflow as tf\n",
    "import numpy as np\n",
    "from tensorflow.examples.tutorials.mnist import input_data\n",
    "sess = tf.InteractiveSession()\n",
    "\n",
    "g = tf.Graph()"
   ]
  },
  {
   "cell_type": "code",
   "execution_count": 2,
   "metadata": {
    "collapsed": true
   },
   "outputs": [],
   "source": [
    "# Parameters\n",
    "learning_rate = 2e-3\n",
    "datasetReviewNum = 200\n",
    "batch_size = 400\n",
    "display_step = 50\n",
    "\n",
    "# synapctic loss regularizer\n",
    "gamma = 0.1\n",
    "\n",
    "# Network Parameters\n",
    "n_input = 784 # MNIST data input (img shape: 28*28)\n",
    "n_classes = 10 # MNIST total classes (0-9 digits)\n",
    "dropout = 0.5 # Dropout, probability to keep units\n",
    "\n",
    "# Moving Average Parameters\n",
    "alpha = 0.99\n",
    "alphaOmega = alpha\n",
    "alphaDelta = alpha\n",
    "alphaParam = 0.5\n",
    "\n",
    "# tf Graph input\n",
    "x = tf.placeholder(tf.float32, [None, n_input])\n",
    "y = tf.placeholder(tf.float32, [None, n_classes])\n",
    "withSI = True\n",
    "\n",
    "keep_prob = tf.placeholder(tf.float32) #dropout (keep probability)"
   ]
  },
  {
   "cell_type": "code",
   "execution_count": null,
   "metadata": {
    "collapsed": true
   },
   "outputs": [],
   "source": []
  },
  {
   "cell_type": "code",
   "execution_count": 3,
   "metadata": {
    "collapsed": true
   },
   "outputs": [],
   "source": [
    "def calcSynapseWeight(omega, delta, epsilon = 1e-8):\n",
    "    # input:\n",
    "    # omega: param length, unscaled importance\n",
    "    # delta: param length, scaling value\n",
    "    # epsilon: 1 length, lower bound for determinant\n",
    "    # output: omega/(delta^2 + epsilon). The power and divisions are elementwise\n",
    "    return omega/(delta**2 + epsilon)"
   ]
  },
  {
   "cell_type": "code",
   "execution_count": 4,
   "metadata": {
    "collapsed": true
   },
   "outputs": [],
   "source": [
    "def synapseLoss(synapseWeight, theta, thetaStar):\n",
    "    # input: \n",
    "    # synapseWeight: param length\n",
    "    # theta: param length, current param value\n",
    "    # thetaStar: param length, moving average value of params\n",
    "    # output: synapseWeight*(theta - thetaStar)^2 all multiplications are elementwise\n",
    "    return synapseWeight*((theta - thetaStar)**2)"
   ]
  },
  {
   "cell_type": "code",
   "execution_count": 5,
   "metadata": {
    "collapsed": true
   },
   "outputs": [],
   "source": [
    "# Create some wrappers for simplicity\n",
    "def conv2d(x, W, b, strides=1):\n",
    "    # Conv2D wrapper, with bias and relu activation\n",
    "    x = tf.nn.conv2d(x, W, strides=[1, strides, strides, 1], padding='SAME')\n",
    "    x = tf.nn.bias_add(x, b)\n",
    "    return tf.nn.relu(x)\n",
    "\n",
    "\n",
    "def maxpool2d(x, k=2):\n",
    "    # MaxPool2D wrapper\n",
    "    return tf.nn.max_pool(x, ksize=[1, k, k, 1], strides=[1, k, k, 1],\n",
    "                          padding='SAME')\n",
    "\n",
    "\n",
    "# Create model\n",
    "def conv_net(x, weights, biases, dropout):\n",
    "    # Reshape input picture\n",
    "    x = tf.reshape(x, shape=[-1, 28, 28, 1])\n",
    "\n",
    "    # Convolution Layer\n",
    "    conv1 = conv2d(x, weights['wc1'], biases['bc1'])\n",
    "    # Max Pooling (down-sampling)\n",
    "    conv1 = maxpool2d(conv1, k=2)\n",
    "\n",
    "    # Convolution Layer\n",
    "    conv2 = conv2d(conv1, weights['wc2'], biases['bc2'])\n",
    "    # Max Pooling (down-sampling)\n",
    "    conv2 = maxpool2d(conv2, k=2)\n",
    "\n",
    "    # Fully connected layer\n",
    "    # Reshape conv2 output to fit fully connected layer input\n",
    "    fc1 = tf.reshape(conv2, [-1, weights['wd1'].get_shape().as_list()[0]])\n",
    "    fc1 = tf.add(tf.matmul(fc1, weights['wd1']), biases['bd1'])\n",
    "    fc1 = tf.nn.relu(fc1)\n",
    "    # Apply Dropout\n",
    "    fc1 = tf.nn.dropout(fc1, dropout)\n",
    "\n",
    "    # Output, class prediction\n",
    "    out = tf.add(tf.matmul(fc1, weights['out']), biases['out'])\n",
    "    return out"
   ]
  },
  {
   "cell_type": "code",
   "execution_count": 6,
   "metadata": {
    "collapsed": true
   },
   "outputs": [],
   "source": [
    "# Store layers weight & bias\n",
    "weights = {\n",
    "    # 5x5 conv, 1 input, 32 outputs\n",
    "    'wc1': tf.Variable(tf.truncated_normal([5, 5, 1, 32], stddev=0.1)),\n",
    "    # 5x5 conv, 32 inputs, 64 outputs\n",
    "    'wc2': tf.Variable(tf.truncated_normal([5, 5, 32, 64], stddev=0.1)),\n",
    "    # fully connected, 7*7*64 inputs, 1024 outputs\n",
    "    'wd1': tf.Variable(tf.truncated_normal([7*7*64, 1024], stddev=0.1)),\n",
    "    # 1024 inputs, 10 outputs (class prediction)\n",
    "    'out': tf.Variable(tf.truncated_normal([1024, n_classes], stddev=0.1))\n",
    "}\n",
    "\n",
    "biases = {\n",
    "    'bc1': tf.Variable(tf.constant(0.1, shape=[32])),\n",
    "    'bc2': tf.Variable(tf.constant(0.1, shape=[64])),\n",
    "    'bd1': tf.Variable(tf.constant(0.1, shape=[1024])),\n",
    "    'out': tf.Variable(tf.constant(0.1, shape=[n_classes]))\n",
    "}\n",
    "\n",
    "numParamMats = len(tf.trainable_variables())\n",
    "\n",
    "synapseWeight = [tf.Variable(tf.zeros(var.shape), trainable = False) for var in tf.trainable_variables()]\n",
    "numParams = tf.cast(tf.add_n([tf.size(tf.trainable_variables()[i]) for i in range(numParamMats)]), tf.float32)\n",
    "# Define moving average operations\n",
    "with tf.name_scope(\"emaOp\"):\n",
    "    emaOmegaOp = tf.train.ExponentialMovingAverage(alphaOmega, zero_debias = True, name = 'movingAvgOmegaOp')\n",
    "    emaDeltaOp = tf.train.ExponentialMovingAverage(alphaDelta, zero_debias = True, name = 'movingDeltaAvgOp')\n",
    "    emaParamOp = tf.train.ExponentialMovingAverage(alphaParam, zero_debias = False, name = 'movingParamAvgOp')"
   ]
  },
  {
   "cell_type": "code",
   "execution_count": 7,
   "metadata": {
    "collapsed": true
   },
   "outputs": [],
   "source": [
    "with tf.name_scope(\"emaParamUpdate\"):\n",
    "    emaParamOp_assign = emaParamOp.apply(tf.trainable_variables())\n",
    "\n",
    "# Define NN upto the loss\n",
    "with tf.name_scope(\"NN\"):\n",
    "        pred = conv_net(x, weights, biases, keep_prob)\n",
    "\n",
    "with tf.name_scope(\"eval\"):\n",
    "    with tf.control_dependencies([pred]):\n",
    "        correct_pred = tf.equal(tf.argmax(pred, 1), tf.argmax(y, 1))\n",
    "        accuracy = tf.reduce_mean(tf.cast(correct_pred, tf.float32))\n",
    "\n",
    "with tf.name_scope(\"loss\"):\n",
    "    with tf.control_dependencies([emaParamOp_assign]):\n",
    "        classCost = tf.reduce_mean(tf.nn.softmax_cross_entropy_with_logits(logits=pred, labels=y))\n",
    "        synapseCost = [synapseLoss(synapseWeight[i], tf.trainable_variables()[i], emaParamOp.average(tf.trainable_variables()[i])) for i in range(numParamMats)]\n",
    "        sc = tf.add_n([tf.reduce_sum(synapseCost[i]) for i in range(numParamMats)])#/numParams\n",
    "        if (withSI == True):\n",
    "            cost = classCost + gamma*sc\n",
    "        else:\n",
    "            cost = classCost\n",
    "\n",
    "# Define old variable param\n",
    "with tf.name_scope(\"oldParam\"):\n",
    "    oldParams = [tf.trainable_variables()[i]*tf.constant(1.) for i in range(numParamMats)]"
   ]
  },
  {
   "cell_type": "code",
   "execution_count": 8,
   "metadata": {},
   "outputs": [],
   "source": [
    "with tf.name_scope(\"optimize\"):\n",
    "    with tf.control_dependencies(oldParams):\n",
    "        # Calculate gradients with respect to this loss  \n",
    "        classGrad = tf.gradients(classCost, tf.trainable_variables(), name = 'MGRADIENT')\n",
    "        optimizer = tf.train.AdamOptimizer(learning_rate=learning_rate).minimize(cost)\n",
    "\n",
    "with tf.name_scope(\"emaUpdate\"):\n",
    "    with tf.control_dependencies([optimizer]):\n",
    "        deltaParams = [tf.trainable_variables()[i] - oldParams[i] for i in range(numParamMats)]\n",
    "        score = [tf.maximum(-classGrad[i]*deltaParams[i], tf.constant(0.)) for i in range(numParamMats)]\n",
    "        emaOmegaOp_assign = emaOmegaOp.apply(score)\n",
    "        emaDeltaOp_assign = emaDeltaOp.apply(deltaParams)\n",
    "\n",
    "with tf.name_scope(\"assignSynapseWeight\"):\n",
    "    with tf.control_dependencies([emaOmegaOp_assign, emaDeltaOp_assign, emaParamOp_assign]):\n",
    "        assignSynapseWeightOp = [synapseWeight[i].assign(calcSynapseWeight(emaOmegaOp.average(score[i]), emaDeltaOp.average(deltaParams[i]))) for i in range(numParamMats)]        \n",
    "\n",
    "with tf.name_scope(\"init\"):\n",
    "    init = tf.global_variables_initializer()"
   ]
  },
  {
   "cell_type": "code",
   "execution_count": null,
   "metadata": {
    "collapsed": true
   },
   "outputs": [],
   "source": [
    "\n",
    "    # Define NN upto the loss\n",
    "    # grad = Calculate gradients with respect to this loss\n",
    "    # define MA ops:\n",
    "        # exponentialAverage(omega, grad*(oldParam-flatennedParam), alphaOmega)\n",
    "        # exponentialAverage(delta, flatennedParam-oldParam, alphaDelta)\n",
    "        # exponentialAverage(paramStar, flatennedParam, alphaParam)\n",
    "    # assign MA output to vars.\n",
    "    \n",
    "    # flatennedParam = flatten(param) # make sure the ordering is the same as grad output\n",
    "    # oldParam = flatennedParam\n",
    "    # synWeight = calcSynapseWeight(omegaMA, deltaMA)\n",
    "    # minimize (loss + synapseLoss(synWeight, param, thetaMA))\n",
    "    \n",
    "    # update MAs with the minimize output's control dependency\n",
    "    \n",
    "# TODO: learn how to copy parameters to be used as oldParams"
   ]
  },
  {
   "cell_type": "code",
   "execution_count": null,
   "metadata": {
    "scrolled": false
   },
   "outputs": [
    {
     "name": "stdout",
     "output_type": "stream",
     "text": [
      "Extracting MNIST_data/train-images-idx3-ubyte.gz\n",
      "Extracting MNIST_data/train-labels-idx1-ubyte.gz\n",
      "Extracting MNIST_data/t10k-images-idx3-ubyte.gz\n",
      "Extracting MNIST_data/t10k-labels-idx1-ubyte.gz\n",
      "sample time 0.36, Minibatch classLoss= 0.552386, sLoss= 0.110055, Loss= 0.563392, Tr Acc= 0.82000\n",
      "sample time 0.73, Minibatch classLoss= 0.239139, sLoss= 0.089927, Loss= 0.248132, Tr Acc= 0.92750\n",
      "sample time 1.09, Minibatch classLoss= 0.219190, sLoss= 0.073548, Loss= 0.226545, Tr Acc= 0.93500\n",
      "sample time 1.45, Minibatch classLoss= 0.199838, sLoss= 0.069148, Loss= 0.206753, Tr Acc= 0.92750\n",
      "sample time 1.82, Minibatch classLoss= 0.197140, sLoss= 0.074844, Loss= 0.204625, Tr Acc= 0.93750\n",
      "Testing Accuracy: 0.9375\n",
      "sample time 2.18, Minibatch classLoss= 0.141393, sLoss= 0.059359, Loss= 0.147329, Tr Acc= 0.95000\n",
      "sample time 2.55, Minibatch classLoss= 0.132246, sLoss= 0.113360, Loss= 0.143582, Tr Acc= 0.95750\n",
      "sample time 2.91, Minibatch classLoss= 0.160868, sLoss= 0.080101, Loss= 0.168878, Tr Acc= 0.95000\n"
     ]
    }
   ],
   "source": [
    "# Launch the graph\n",
    "mnist = input_data.read_data_sets(\"MNIST_data/\", one_hot=True)\n",
    "training_iters = int(datasetReviewNum* mnist.train.images.shape[0]/batch_size)\n",
    "writer = tf.summary.FileWriter('./logs/synapticIntelligence', graph=tf.get_default_graph())\n",
    "with tf.Session() as sess:\n",
    "    sess.run(init)\n",
    "    step = 1\n",
    "    # Keep training until reach max iterations\n",
    "    while step < training_iters:\n",
    "        batch_x, batch_y = mnist.train.next_batch(batch_size)\n",
    "        # Run optimization op (backprop)\n",
    "        #sess.run(optimizer, feed_dict={x: batch_x, y: batch_y,\n",
    "        #                               keep_prob: dropout})\n",
    "        \n",
    "        #loss, acc, s, nump, sync = sess.run([classCost, accuracy, score, numParams, sc], feed_dict={x: batch_x,\n",
    "        #                                                      y: batch_y,\n",
    "        #                                                      keep_prob: dropout})\n",
    "        loss, classLoss, sLoss, acc, _ = sess.run([cost, classCost, sc, accuracy, assignSynapseWeightOp], \n",
    "                                          feed_dict={x: batch_x, y: batch_y, keep_prob: dropout})\n",
    "        #loss, classLoss, acc, _ = sess.run([cost, classCost, accuracy, optimizer], \n",
    "        #                                  feed_dict={x: batch_x, y: batch_y, keep_prob: dropout})\n",
    "        \n",
    "        \n",
    "        if step % display_step == 0:\n",
    "            print \"sample time \" + \"{:.2f}\".format((step*batch_size/ np.float32(mnist.train.images.shape[0]))) + \\\n",
    "                  \", Minibatch classLoss= \" + \"{:.6f}\".format(classLoss) + \\\n",
    "                  \", sLoss= \" + \"{:.6f}\".format(sLoss) + \\\n",
    "                  \", Loss= \" + \"{:.6f}\".format(loss) + \\\n",
    "                    \", Tr Acc= \" + \"{:.5f}\".format(acc)\n",
    "                    \n",
    "        if step % (display_step*5) == 0:\n",
    "            acc_list = []\n",
    "            fromIx_list = []\n",
    "            toIx_list = []\n",
    "            nTestBatch = int(np.floor(mnist.test.images.shape[0]/batch_size))\n",
    "            for i in range(nTestBatch):\n",
    "                fromIx = i*batch_size\n",
    "                toIx = min((i+1)*batch_size, mnist.test.images.shape[0])         \n",
    "                curAcc = sess.run(accuracy, feed_dict={x: mnist.test.images[fromIx:toIx],\n",
    "                                                       y: mnist.test.labels[fromIx:toIx],\n",
    "                                                       keep_prob: 1.})\n",
    "            fromIx_list.append(fromIx)\n",
    "            toIx_list.append(toIx)\n",
    "            acc_list.append(curAcc)\n",
    "            print \"Testing Accuracy:\", np.mean(acc_list)\n",
    "            \n",
    "        step += 1\n",
    "    \n",
    "    acc_list = []\n",
    "    fromIx_list = []\n",
    "    toIx_list = []\n",
    "    nTestBatch = int(np.floor(mnist.test.images.shape[0]/batch_size))\n",
    "    for i in range(nTestBatch):\n",
    "        fromIx = i*batch_size\n",
    "        toIx = min((i+1)*batch_size, mnist.test.images.shape[0])         \n",
    "        curAcc = sess.run(accuracy, feed_dict={x: mnist.test.images[fromIx:toIx],\n",
    "                                               y: mnist.test.labels[fromIx:toIx],\n",
    "                                               keep_prob: 1.})\n",
    "        fromIx_list.append(fromIx)\n",
    "        toIx_list.append(toIx)\n",
    "        acc_list.append(curAcc)\n",
    "    print \"Testing Accuracy:\", np.mean(acc_list)     \n",
    "    sess.close()\n",
    "    print \"Optimization Finished!\"\n",
    "writer.close()\n",
    "# Calculate accuracy for 256 mnist test images\n"
   ]
  },
  {
   "cell_type": "code",
   "execution_count": null,
   "metadata": {},
   "outputs": [],
   "source": [
    "np.floor(np.ndarray(shape=(3)))[0:1]"
   ]
  },
  {
   "cell_type": "code",
   "execution_count": null,
   "metadata": {
    "collapsed": true
   },
   "outputs": [],
   "source": []
  }
 ],
 "metadata": {
  "kernelspec": {
   "display_name": "Python 2",
   "language": "python",
   "name": "python2"
  },
  "language_info": {
   "codemirror_mode": {
    "name": "ipython",
    "version": 2
   },
   "file_extension": ".py",
   "mimetype": "text/x-python",
   "name": "python",
   "nbconvert_exporter": "python",
   "pygments_lexer": "ipython2",
   "version": "2.7.12"
  }
 },
 "nbformat": 4,
 "nbformat_minor": 2
}
